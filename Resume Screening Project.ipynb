{
 "cells": [
  {
   "cell_type": "markdown",
   "id": "84802028",
   "metadata": {},
   "source": [
    "# Resume Screening Project"
   ]
  },
  {
   "cell_type": "code",
   "execution_count": 1,
   "id": "2f8c8a61",
   "metadata": {},
   "outputs": [],
   "source": [
    "import pdf2docx as pd\n",
    "import docx2txt as dt"
   ]
  },
  {
   "cell_type": "code",
   "execution_count": 2,
   "id": "977724cf",
   "metadata": {},
   "outputs": [],
   "source": [
    "#Select file for resume\n",
    "pdf_file = 'Profile (20).pdf'\n",
    "docx_file = 'Profile (20).docx'"
   ]
  },
  {
   "cell_type": "code",
   "execution_count": 3,
   "id": "226a0833",
   "metadata": {},
   "outputs": [
    {
     "name": "stderr",
     "output_type": "stream",
     "text": [
      "[INFO] Start to convert Profile (20).pdf\n",
      "[INFO] \u001b[1;36m[1/4] Opening document...\u001b[0m\n",
      "[INFO] \u001b[1;36m[2/4] Analyzing document...\u001b[0m\n",
      "[INFO] \u001b[1;36m[3/4] Parsing pages...\u001b[0m\n",
      "[INFO] (1/3) Page 1\n",
      "[INFO] (2/3) Page 2\n",
      "[INFO] (3/3) Page 3\n",
      "[INFO] \u001b[1;36m[4/4] Creating pages...\u001b[0m\n",
      "[INFO] (1/3) Page 1\n",
      "[INFO] (2/3) Page 2\n",
      "[INFO] (3/3) Page 3\n",
      "[INFO] Terminated in 1.32s.\n"
     ]
    }
   ],
   "source": [
    "resume = pd.Converter(pdf_file)\n",
    "resume.convert(docx_file)\n",
    "resume.close()"
   ]
  },
  {
   "cell_type": "code",
   "execution_count": 4,
   "id": "0753f32b",
   "metadata": {
    "collapsed": true
   },
   "outputs": [
    {
     "name": "stdout",
     "output_type": "stream",
     "text": [
      "Contact \n",
      "manasvi.grover22@gmail.com\n",
      "\n",
      "www.linkedin.com/in/manasvi-grover-31861614a (LinkedIn)\n",
      "\n",
      "Top Skills \n",
      "Python \n",
      "Management \n",
      "Public Speaking\n",
      "\n",
      "Certifications \n",
      "Machine Learning \n",
      "JavaScript Essentials\n",
      "\n",
      "Publications \n",
      "Amplitude Modulation \n",
      "Optimization Techniques for Static Power Dissipation in VLSI Circuits\n",
      "\n",
      "Transistor Heterogeneity\n",
      "\n",
      "\n",
      "\n",
      "\n",
      "\n",
      "Manasvi Grover Machine Learning Engineer at Envirya South Delhi, Delhi, India\n",
      "\n",
      "Summary\n",
      "\n",
      "A determined and diligent Electronics and Communications Engineer in the making. forward-thinking professional with knowledge in all aspects of her stream. Excellent interpersonal and communication abilities, and possess a wide range of technical skills.Has the \n",
      "flexibility of working well as a part of a team and on my own.  I am an organizational whiz and Machine Learning Enthusiast who can work on multi-layered tasks and balance multiple projects concurrently. I love to take up new projects and find the best-optimized solution for the same following an Innovative and Minimal Approach. I am a strict disciplinarian and Hardworking undergraduate student. \n",
      "\n",
      "Experience\n",
      "\n",
      "Envirya \n",
      "Machine Learning Engineer \n",
      "January 2020 - Present (3 months) \n",
      "Gurgoan\n",
      "\n",
      "Currently working on various Machine Learning problems involving regression,\n",
      "\n",
      "classification and unsupervised learning as well\n",
      "\n",
      "Worked on an Insurance Claim Prediction Model and successfully deployed it\n",
      "\n",
      "on AWS eC2.\n",
      "\n",
      "Lent a hand in a Facial Recognition by curating an end to end dataset with\n",
      "\n",
      "about a million pictures overall\n",
      "\n",
      "Have worked on Sagemaker, Comprehend and GCP for Machine Learning\n",
      "\n",
      "Stealth Mode Startup Company \n",
      "Data Science Intern \n",
      "May 2019 - December 2019 (8 months) \n",
      "New Delhi Area, India\n",
      "\n",
      "Worked on web scarping, manipulation of data collected and managing it using\n",
      "\n",
      "NodeJS with Cheerio, Puppeteer, and Mongo DB\n",
      "\n",
      "Worked extensively on web scraping through all possible techniques using\n",
      "\n",
      "Python and MySQL\n",
      "\n",
      "\tFamiliarised with the following libraries - Bs4, Requests, Selenium, Scrapy \tPage 1 of 3\n",
      "\n",
      "\n",
      "\n",
      "\n",
      "\n",
      "\n",
      "\n",
      "Substantial work on Data Visualization - Static and Dynamic\n",
      "\n",
      "Familiarised with the following libraries - Matplotlib, Seaborn, Bokeh, ggplot,\n",
      "\n",
      "pygal\n",
      "\n",
      "NotesHub\n",
      "\n",
      "2 years\n",
      "\n",
      "Head Of Marketing \n",
      "January 2019 - November 2019 (11 months)\n",
      "\n",
      "Intern \n",
      "December 2017 - December 2018 (1 year 1 month)\n",
      "\n",
      "Enactus,ADGITM\n",
      "\n",
      "2 years 8 months\n",
      "\n",
      "President \n",
      "February 2018 - April 2019 (1 year 3 months)\n",
      "\n",
      "Project Head \n",
      "October 2018 - February 2019 (5 months)\n",
      "\n",
      "Member \n",
      "September 2016 - February 2018 (1 year 6 months)\n",
      "\n",
      "BSES Delhi \n",
      "Internship Trainee \n",
      "January 2019 - January 2019 (1 month)\n",
      "\n",
      "Worked on .net ,HTML 5, CSS, Oracle SQL to build a full fledged working\n",
      "\n",
      "frontend for a website currently in place for  the Asset Tracking system.\n",
      "\n",
      "The Indian Express \n",
      "Corporate Communications Intern \n",
      "July 2017 - August 2017 (2 months) \n",
      "Noida Area, India\n",
      "\n",
      "The Campus Connect \n",
      "Core Team Member \n",
      "October 2016 - March 2017 (6 months)\n",
      "\n",
      "Education\n",
      "\n",
      "Page 2 of 3\n",
      "\n",
      "\n",
      "\n",
      "\n",
      "\n",
      "\n",
      "\n",
      "Northern India Engineering College, New Delhi \n",
      "Bachelor's of Engineering, Electrical, Electronics and Communications Engineering · (2016 - 2020)\n",
      "\n",
      "St. Anthony's School \n",
      "Science · (2002 - 2016)\n",
      "\n",
      "Page 3 of 3\n"
     ]
    }
   ],
   "source": [
    "resume1 = dt.process(r'C:\\Users\\Admin\\Profile (20).docx')\n",
    "print(resume1)"
   ]
  },
  {
   "cell_type": "code",
   "execution_count": 5,
   "id": "d00bb506",
   "metadata": {},
   "outputs": [],
   "source": [
    "#Select file for job description\n",
    "pdf_file1 = 'Profile (21).pdf'\n",
    "docx_file1 = 'Profile (21).docx'"
   ]
  },
  {
   "cell_type": "code",
   "execution_count": 6,
   "id": "279d3f62",
   "metadata": {
    "scrolled": true
   },
   "outputs": [
    {
     "name": "stderr",
     "output_type": "stream",
     "text": [
      "[INFO] Start to convert Profile (21).pdf\n",
      "[INFO] \u001b[1;36m[1/4] Opening document...\u001b[0m\n",
      "[INFO] \u001b[1;36m[2/4] Analyzing document...\u001b[0m\n",
      "[INFO] \u001b[1;36m[3/4] Parsing pages...\u001b[0m\n",
      "[INFO] (1/2) Page 1\n",
      "[INFO] (2/2) Page 2\n",
      "[INFO] \u001b[1;36m[4/4] Creating pages...\u001b[0m\n",
      "[INFO] (1/2) Page 1\n",
      "[INFO] (2/2) Page 2\n",
      "[INFO] Terminated in 0.40s.\n"
     ]
    }
   ],
   "source": [
    "jd = pd.Converter(pdf_file1)\n",
    "jd.convert(docx_file1)\n",
    "jd.close()"
   ]
  },
  {
   "cell_type": "code",
   "execution_count": 7,
   "id": "29ddbff0",
   "metadata": {
    "collapsed": true
   },
   "outputs": [
    {
     "name": "stdout",
     "output_type": "stream",
     "text": [
      "Contact\n",
      "\n",
      "www.linkedin.com/in/anmolmittal98 (LinkedIn)\n",
      "\n",
      "Top Skills\n",
      "\n",
      "Java \n",
      "C++ \n",
      "C\n",
      "\n",
      "Certifications\n",
      "\n",
      "Student Committee Member for \n",
      "ICITETM \n",
      "Machine Learning \n",
      "Android Workshop(Coding Blocks) -Organizer \n",
      "Code-a-thon 2.0 (MAIT & \n",
      "HackerEarth)- Organiser \n",
      "Campus Ambassador\n",
      "\n",
      "Publications\n",
      "\n",
      "Research Paper -Advanced Parking System\n",
      "\n",
      "Data Analysis on Cybercrime Motives\n",
      "\n",
      "\n",
      "\n",
      "\n",
      "\n",
      "Anmol Mittal \n",
      "Programmer | Data Science | Machine Learning | Research Central Delhi, Delhi, India\n",
      "\n",
      "Summary\n",
      "\n",
      "Team Work | Development | Still Learning\n",
      "\n",
      "Experience\n",
      "\n",
      "Pepcoding Education Private Limited Teaching Assistant \n",
      "January 2020 - Present (3 months) \n",
      "New Delhi\n",
      "\n",
      "JK Tyre & Industries Ltd.\n",
      "\n",
      "Technical Intern \n",
      "June 2019 - July 2019 (2 months) \n",
      "New Delhi Area, India\n",
      "\n",
      "C-DAC (Formerly NCST) \n",
      "Summer Research Intern \n",
      "June 2018 - July 2018 (2 months) \n",
      "Noida Area, India\n",
      "\n",
      "Data Science and Cybersecurity\n",
      "\n",
      "Leaders For Tomorrow \n",
      "Intern \n",
      "February 2018 - March 2018 (2 months) Delhi Area, India\n",
      "\n",
      "Worked with the LFT team, contributing to the management and execution\n",
      "\n",
      "of the annual development festival, using social media, managing groups of\n",
      "\n",
      "people and allotting them work and maintaining files and attendance etc.\n",
      "\n",
      "GITS India Solutions Pvt Ltd \n",
      "Software Developer Intern \n",
      "June 2017 - July 2017 (2 months) \n",
      "Greater Kailash, New Delhi, Delhi, india\n",
      "\n",
      "Page 1 of 2\n",
      "\n",
      "\n",
      "\n",
      "\n",
      "\n",
      "\n",
      "\n",
      "Education\n",
      "\n",
      "Guru Gobind Singh Indraprastha University \n",
      "Bachelor of Technology - BTech, Computer Science · (2016 - 2020)\n",
      "\n",
      "Sardar Patel Vidyalaya \n",
      "High School, PCM + Computer Science · (2015 - 2016)\n",
      "\n",
      "Page 2 of 2\n"
     ]
    }
   ],
   "source": [
    "jd1 = dt.process(r'C:\\Users\\Admin\\Profile (21).docx')\n",
    "print(jd1)"
   ]
  },
  {
   "cell_type": "code",
   "execution_count": 8,
   "id": "8fac95f9",
   "metadata": {},
   "outputs": [],
   "source": [
    "content=[jd1,resume1]"
   ]
  },
  {
   "cell_type": "code",
   "execution_count": 9,
   "id": "dbfb2442",
   "metadata": {},
   "outputs": [],
   "source": [
    "from sklearn.feature_extraction.text import CountVectorizer\n",
    "cv = CountVectorizer()\n",
    "count_matrix = cv.fit_transform(content)"
   ]
  },
  {
   "cell_type": "code",
   "execution_count": 10,
   "id": "2c4c7960",
   "metadata": {},
   "outputs": [
    {
     "name": "stdout",
     "output_type": "stream",
     "text": [
      "[[1.        0.6084089]\n",
      " [0.6084089 1.       ]]\n"
     ]
    }
   ],
   "source": [
    "from sklearn.metrics.pairwise import cosine_similarity\n",
    "mat = cosine_similarity(count_matrix)\n",
    "print(mat)"
   ]
  },
  {
   "cell_type": "code",
   "execution_count": 11,
   "id": "f939ea84",
   "metadata": {},
   "outputs": [
    {
     "name": "stdout",
     "output_type": "stream",
     "text": [
      "Resume Matches by: 60.84088995124647%\n"
     ]
    }
   ],
   "source": [
    "print('Resume Matches by: '+  str(mat[1][0]*100) + '%')"
   ]
  },
  {
   "cell_type": "code",
   "execution_count": null,
   "id": "f0ff4403",
   "metadata": {},
   "outputs": [],
   "source": []
  },
  {
   "cell_type": "code",
   "execution_count": null,
   "id": "4f4c5bfc",
   "metadata": {},
   "outputs": [],
   "source": []
  }
 ],
 "metadata": {
  "kernelspec": {
   "display_name": "Python 3 (ipykernel)",
   "language": "python",
   "name": "python3"
  },
  "language_info": {
   "codemirror_mode": {
    "name": "ipython",
    "version": 3
   },
   "file_extension": ".py",
   "mimetype": "text/x-python",
   "name": "python",
   "nbconvert_exporter": "python",
   "pygments_lexer": "ipython3",
   "version": "3.9.12"
  }
 },
 "nbformat": 4,
 "nbformat_minor": 5
}
