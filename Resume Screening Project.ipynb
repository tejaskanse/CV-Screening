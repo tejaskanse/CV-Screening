{
 "cells": [
  {
   "cell_type": "markdown",
   "id": "79caee60",
   "metadata": {},
   "source": [
    "# Resume Screening Project"
   ]
  },
  {
   "cell_type": "code",
   "execution_count": 1,
   "id": "ea192c23",
   "metadata": {},
   "outputs": [],
   "source": [
    "import pdf2docx as pd\n",
    "import docx2txt as dt"
   ]
  },
  {
   "cell_type": "code",
   "execution_count": 2,
   "id": "51983f53",
   "metadata": {},
   "outputs": [],
   "source": [
    "#Select file for resume\n",
    "pdf_file = 'Profile (48).pdf'\n",
    "docx_file = 'Profile (48).docx'"
   ]
  },
  {
   "cell_type": "code",
   "execution_count": 3,
   "id": "c0fa5299",
   "metadata": {},
   "outputs": [
    {
     "name": "stderr",
     "output_type": "stream",
     "text": [
      "[INFO] Start to convert Profile (48).pdf\n",
      "[INFO] \u001b[1;36m[1/4] Opening document...\u001b[0m\n",
      "[INFO] \u001b[1;36m[2/4] Analyzing document...\u001b[0m\n",
      "[INFO] \u001b[1;36m[3/4] Parsing pages...\u001b[0m\n",
      "[INFO] (1/4) Page 1\n",
      "[INFO] (2/4) Page 2\n",
      "[INFO] (3/4) Page 3\n",
      "[INFO] (4/4) Page 4\n",
      "[INFO] \u001b[1;36m[4/4] Creating pages...\u001b[0m\n",
      "[INFO] (1/4) Page 1\n",
      "[INFO] (2/4) Page 2\n",
      "[INFO] (3/4) Page 3\n",
      "[INFO] (4/4) Page 4\n",
      "[INFO] Terminated in 0.75s.\n"
     ]
    }
   ],
   "source": [
    "resume = pd.Converter(pdf_file)\n",
    "resume.convert(docx_file)\n",
    "resume.close()"
   ]
  },
  {
   "cell_type": "code",
   "execution_count": 4,
   "id": "c5a400a8",
   "metadata": {},
   "outputs": [
    {
     "name": "stdout",
     "output_type": "stream",
     "text": [
      "Contact\n",
      "\n",
      "www.linkedin.com/in/sariabod\n",
      "\n",
      "(LinkedIn)\n",
      "\n",
      "Top Skills\n",
      "\n",
      "Data Science\n",
      "\n",
      "API Development\n",
      "\n",
      "Project Management\n",
      "\n",
      "Publications\n",
      "\n",
      "The Development and Application of Real-Time Deep Learning Models to Drive Directional Drilling Efficiency\n",
      "\n",
      "Development and Application of a Real-Time Drilling State Classification Algorithm with Machine Learning\n",
      "\n",
      "Digital Transformation Strategy Enables Automated Real-Time Torque-and-Drag Modeling\n",
      "\n",
      "\n",
      "\n",
      "\n",
      "\n",
      "Sam Ariabod \n",
      "Machine Learning Engineer at Anadarko Petroleum Corporation Sacramento, California Area\n",
      "\n",
      "Summary\n",
      "\n",
      "I am a production-minded engineer with demonstrated ability to deliver valuable insights via data analytics and advanced data-driven methods. I have a strong sense of logic and extensive software development experience. My deep understanding of big data and machine learning allows me to collaborate with data scientists and data engineers to develop purpose-built, complex, reliable machine learning solutions and big data pipelines.\n",
      "\n",
      "Experience\n",
      "\n",
      "Anadarko Petroleum Corporation \n",
      "Machine Learning Engineer / Data Engineer September 2018 - October 2019 (1 year 2 months) Houston, Texas Area\n",
      "\n",
      "• Member of the Advanced Analytics and Emerging Technologies Division (AAET) division\n",
      "• Researched and tested GCP services to replace on-prem MapR and Streambase based pipeline\n",
      "• Created a datalake using GCS and BigQuery to capture real-time well data for ML training\n",
      "• Created a hybrid, real-time ML pipeline (GCP to On-Prem)\n",
      "• Researched and created an ML model to detect drilling anomalies using image segmentation\n",
      "• Created RESTful APIs using Flask, Gunicorn, and Nginx to serve up models in Docker/Kubernetes\n",
      "• Built an ETL framework that tied real-time streaming data into a 3rd party physics model for Torque and Drag calculations\n",
      "\n",
      "Shiekh Shoes LLC \n",
      "Data Engineer \n",
      "May 2017 - September 2018 (1 year 5 months) Greater Los Angeles Area\n",
      "\n",
      "\t• Managed a team of developers to build and launch three ecommerce apps using agile methodologies \n",
      "\tPage 1 of 4\n",
      "\n",
      "\n",
      "\n",
      "\n",
      "\n",
      "\n",
      "\n",
      "• Prepared, planned, designed and created a BI solution to meet specific business needs for stakeholders\n",
      "• Created an ETL solution that was sourced from multiple disparate systems: Linux/MySQL, Windows/MSSQL, and Legacy POS systems\n",
      "• Created a reporting UI using Django that allowed users to aggregate data from multiple inventory sources and run statistics on them\n",
      "• Created mobile app data capturing using SQS, DynamoDB, and Lambda• Built out a datalake using Redshift and S3 to capture sales, inventory, and user data\n",
      "\n",
      "Czekmaet, Inc.\n",
      "\n",
      "Chief Data Officer \n",
      "May 2014 - May 2017 (3 years 1 month)\n",
      "\n",
      "• Managed and deployed machine learning models and data pipelines • Gathered and cleaned data from various sources to build out traditional data cubes\n",
      "• Created an ETL solution using Airflow, Spark, S3, Cassandra for BI\n",
      "• Used collaborative filtering with a deep neural net to create a course \n",
      "recommendation engine for an online education provider\n",
      "• Built a price predicter for an online retailer that scrapes websites and looks for trends in pricing \n",
      "• Moved on-prem Hadoop systems into the cloud using AWS services like EMR and Kafka\n",
      "\n",
      "MaxKnowledge, Inc.\n",
      "\n",
      "VP of Technology \n",
      "January 2005 - May 2014 (9 years 5 months) Orange County, California Area\n",
      "\n",
      "• Designed and developed an e-Learning platform from the ground up that supported over 100k students\n",
      "• Designed and coded an analytics system to analyze user behavior patterns and send custom marketing emails to promote specific sales promotions• Routinely met with company stakeholders to plan future products and services based on market trends \n",
      "• Put a team of talented developers from various parts of the world to build a new web initiative based on an API centric model - Zend Framework, MySQL, MongoDB as the back-end and Node, React, Redux on the front-end\n",
      "• Met with current clients to gather information that would guide updates and feature development\n",
      "\n",
      "Page 2 of 4\n",
      "\n",
      "\n",
      "\n",
      "\n",
      "\n",
      "\n",
      "\n",
      "• Planed and moved entire on-prem server stack to AWS using services like EC2, ELB, Route53, Aurora, Lamba\n",
      "\n",
      "Farheap Solutions \n",
      "System Administrator \n",
      "October 2004 - December 2005 (1 year 3 months) Santa Ana, CA\n",
      "\n",
      "• Consolidated customer support systems – moved away from windows to linux cutting costs and maintenance\n",
      "• Built software to manage customer service calls\n",
      "• Created a system management utility to listen in and view the screens of customer support during calls using all open source technologies including Asterisk, MySQL, Linux \n",
      "• Managed a team of IT personnel to support the infrastructure\n",
      "\n",
      "Northrop Rice USA \n",
      "Director of IT \n",
      "December 2003 - July 2004 (8 months) \n",
      "Houston, Texas Area\n",
      "\n",
      "• Maintained online infrastructure for training courses• Managed the development of 3D A&P training modules• Met with management to guide technology updates\n",
      "• Maintained a cluster of computers that was used for CAD\n",
      "\n",
      "Aerolearn, Inc.\n",
      "\n",
      "Director of IT \n",
      "January 2000 - January 2004 (4 years 1 month) Irvine, ca\n",
      "\n",
      "• Developed online course infrastructure\n",
      "• Customized software based on Unix/Perl CGI\n",
      "• Managed marketing department to ensure ROI – print and online\n",
      "\n",
      "Css Laboratories \n",
      "Systems Engineer \n",
      "January 1998 - January 2000 (2 years 1 month) Irvine, CA\n",
      "\n",
      "• Level 4 customer service support\n",
      "• Responsible for Mil Spec servers designed for US military submarines• Served as a Microsoft Hardware Compatibility Engineer, responsible to maintain hardware and software compatibility testing and compliance\n",
      "\n",
      "Page 3 of 4\n",
      "\n",
      "\n",
      "\n",
      "\n",
      "\n",
      "\n",
      "\n",
      "• Designed and developed a web-enabled support portal to streamline internal support services\n",
      "\n",
      "Education\n",
      "\n",
      "California State University, Fullerton Biology, General · (1995 - 1995)\n",
      "\n",
      "Udacity \n",
      "Nano Degree, Data Engineering · (2019 - 2019)\n",
      "\n",
      "Udacity \n",
      "Nano Degree, Machine Learning Engineer · (2018 - 2018)\n",
      "\n",
      "DeVry University \n",
      "Computer Science · (2000 - 2000)\n",
      "\n",
      "Butte College \n",
      "Mathematics · (1998 - 1998)\n",
      "\n",
      "Page 4 of 4\n"
     ]
    }
   ],
   "source": [
    "resume1 = dt.process(r'C:\\Users\\Admin\\Profile (48).docx')\n",
    "print(resume1)"
   ]
  },
  {
   "cell_type": "code",
   "execution_count": 5,
   "id": "29c54137",
   "metadata": {},
   "outputs": [],
   "source": [
    "#Select file for job description\n",
    "pdf_file1 = 'JD.pdf'\n",
    "docx_file1 = 'JD.docx'"
   ]
  },
  {
   "cell_type": "code",
   "execution_count": 6,
   "id": "cdc1d697",
   "metadata": {
    "scrolled": true
   },
   "outputs": [
    {
     "name": "stderr",
     "output_type": "stream",
     "text": [
      "[INFO] Start to convert JD.pdf\n",
      "[INFO] \u001b[1;36m[1/4] Opening document...\u001b[0m\n",
      "[INFO] \u001b[1;36m[2/4] Analyzing document...\u001b[0m\n",
      "[INFO] \u001b[1;36m[3/4] Parsing pages...\u001b[0m\n",
      "[INFO] (1/1) Page 1\n",
      "[INFO] \u001b[1;36m[4/4] Creating pages...\u001b[0m\n",
      "[INFO] (1/1) Page 1\n",
      "[INFO] Terminated in 0.32s.\n"
     ]
    }
   ],
   "source": [
    "jd = pd.Converter(pdf_file1)\n",
    "jd.convert(docx_file1)\n",
    "jd.close()"
   ]
  },
  {
   "cell_type": "code",
   "execution_count": 7,
   "id": "2181302c",
   "metadata": {},
   "outputs": [
    {
     "name": "stdout",
     "output_type": "stream",
     "text": [
      "The Job Overview \n",
      "\n",
      "Machin Learning \n",
      "\n",
      "We are seeking a dedicated AI machine learning engineer to join our growing company. \n",
      "\n",
      "You will collaborate with software engineers and product managers to create sufficient artificial intelligenc e algorithms, where “effective” means that specific outputs can be traced back to particular inputs. As an AI machine learning engineer, we hope you can put your passion for AI engineering toward creating a saf e and effective AI partner. \n",
      "\n",
      "Your duties will include: \n",
      "\n",
      "Monitoring and adapting content influx and datasets to prevent young AI corruption \n",
      "Monitor input and output signals to ensure positive progress toward designated goals \n",
      "Work with product managers to ensure that projects proceed on time and on budget \n",
      "Work with other engineers to develop a working understanding of how the AI is developing \n",
      "Document process steps to ensure reasonable human oversight \n",
      "Work with other engineers to monitor changes in development and implement symbiotic learning engage ments between iterative learning machine learning models \n",
      "Responsibilities \n",
      "\n",
      "Below are some of the responsibilities an AI machine learning engineer is expected to undertake: \n",
      "\n",
      "Clear communication with product managers and other engineers regarding project timelines, delays, adv ancements, and progression \n",
      "Understanding of \n",
      "engineering ethics \n",
      "robotics ethics \n",
      "AI creation ethics \n",
      "Workable knowledge of AI and ML best practices for \n",
      "model building \n",
      "automation \n",
      "neural network enrichment \n",
      "iterative learning \n",
      "“black box” problem-solving \n",
      "Strong time management skills \n",
      "Dedication to high-quality work output \n",
      "Job Qualifications and Skill Sets \n",
      "\n",
      "Below are the qualifications that are expected of an AI machine learning engineer: \n",
      "\n",
      "Bachelor’s degree in a related field, such as computer science, software engineering or data science, is r ecommended. Master’s degree in Artificial Intelligence a plus. \n",
      "\n",
      "Proficiency in PyTorch, Python, Java, or OpenAI is a plus \n",
      "Minimum two years of experience as a certified engineer \n",
      "Have passed the PE exam \n",
      "Experience working with SaaS companies \n",
      "Comfort controlling the big data feed that will be used to train the AI Attention to detail and ability to respond quickly \n",
      "Strong analytical skills \n",
      "Comfort working in a small, remote team-based environment\n"
     ]
    }
   ],
   "source": [
    "jd1 = dt.process(r'C:\\Users\\Admin\\JD.docx')\n",
    "print(jd1)"
   ]
  },
  {
   "cell_type": "code",
   "execution_count": 8,
   "id": "370e010b",
   "metadata": {},
   "outputs": [],
   "source": [
    "content=[jd1,resume1]"
   ]
  },
  {
   "cell_type": "code",
   "execution_count": 9,
   "id": "d1169076",
   "metadata": {},
   "outputs": [],
   "source": [
    "from sklearn.feature_extraction.text import CountVectorizer\n",
    "cv = CountVectorizer()\n",
    "count_matrix = cv.fit_transform(content)"
   ]
  },
  {
   "cell_type": "code",
   "execution_count": 10,
   "id": "736ac6bf",
   "metadata": {},
   "outputs": [
    {
     "name": "stdout",
     "output_type": "stream",
     "text": [
      "[[1.         0.60455125]\n",
      " [0.60455125 1.        ]]\n"
     ]
    }
   ],
   "source": [
    "from sklearn.metrics.pairwise import cosine_similarity\n",
    "mat = cosine_similarity(count_matrix)\n",
    "print(mat)"
   ]
  },
  {
   "cell_type": "code",
   "execution_count": 11,
   "id": "41a89ea5",
   "metadata": {},
   "outputs": [
    {
     "name": "stdout",
     "output_type": "stream",
     "text": [
      "Resume Matches with Job Description: 60.46%\n"
     ]
    }
   ],
   "source": [
    "percentage=mat[1][0]*100\n",
    "perc=str(round(percentage , 2))\n",
    "print('Resume Matches with Job Description: '+ perc +'%')"
   ]
  }
 ],
 "metadata": {
  "kernelspec": {
   "display_name": "Python 3 (ipykernel)",
   "language": "python",
   "name": "python3"
  },
  "language_info": {
   "codemirror_mode": {
    "name": "ipython",
    "version": 3
   },
   "file_extension": ".py",
   "mimetype": "text/x-python",
   "name": "python",
   "nbconvert_exporter": "python",
   "pygments_lexer": "ipython3",
   "version": "3.9.12"
  }
 },
 "nbformat": 4,
 "nbformat_minor": 5
}
